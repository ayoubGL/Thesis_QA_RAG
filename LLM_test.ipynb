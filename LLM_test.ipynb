{
 "cells": [
  {
   "cell_type": "code",
   "execution_count": 7,
   "id": "3217f58e",
   "metadata": {},
   "outputs": [
    {
     "name": "stderr",
     "output_type": "stream",
     "text": [
      "/var/folders/vv/jld3_3hn5fz42wp20lz51yxm0000gn/T/ipykernel_98973/49787312.py:6: DeprecationWarning: callback_manager is deprecated. Please use callbacks instead.\n",
      "  llm = Ollama(\n"
     ]
    },
    {
     "name": "stdout",
     "output_type": "stream",
     "text": [
      "You're referring to the winners of various football competitions in 2022!\n",
      "\n",
      "Here are some notable ones:\n",
      "\n",
      "1. **FIFA World Cup Qatar 2022**:\n",
      "\t* Winners: Argentina (won against France in the final on December 18, 2022)\n",
      "\t* Golden Ball (best player): Lionel Messi\n",
      "\t* Golden Glove (best goalkeeper): Emiliano Martínez\n",
      "2. **UEFA Champions League 2021-22**:\n",
      "\t* Winners: Real Madrid (beat Liverpool 1-0 in the final on May 28, 2022)\n",
      "3. **English Premier League 2021-22**:\n",
      "\t* Winners: Manchester City\n",
      "4. **La Liga 2021-22**:\n",
      "\t* Winners: Barcelona (on points average, as the team finished with the same number of points but fewer goals conceded than Real Madrid)\n",
      "5. **Bundesliga 2021-22**:\n",
      "\t* Winners: Bayern Munich\n",
      "6. **Serie A 2021-22**:\n",
      "\t* Winners: AC Milan\n",
      "7. **UEFA Europa League 2021-22**:\n",
      "\t* Winners: Eintracht Frankfurt (beat Rangers 2-1 in the final on May 18, 2022)\n",
      "8. **Copa Libertadores 2022**:\n",
      "\t* Winners: Independiente del Valle (from Ecuador)\n",
      "\n",
      "These are just a few examples of football winners from 2022. If you're interested in more information or specific competitions, feel free to ask!"
     ]
    }
   ],
   "source": [
    "from langchain_community.llms import Ollama\n",
    "from langchain.callbacks.manager import CallbackManager\n",
    "from langchain.callbacks.streaming_stdout import StreamingStdOutCallbackHandler\n",
    "\n",
    "\n",
    "llm = Ollama(\n",
    "    model = \"llama3.1\", callback_manager = CallbackManager([StreamingStdOutCallbackHandler()])\n",
    ")\n",
    "answer = llm.invoke(\"football winner 2022\")\n"
   ]
  },
  {
   "cell_type": "markdown",
   "id": "df4c0a15",
   "metadata": {},
   "source": [
    "### Text Extraction"
   ]
  },
  {
   "cell_type": "code",
   "execution_count": 31,
   "id": "4838608d",
   "metadata": {},
   "outputs": [],
   "source": [
    "from langchain_community.document_loaders import PyPDFLoader\n",
    "\n",
    "pdf_kappa = \"./pdfs/Kappe.pdf\"\n",
    "loader = PyPDFLoader(pdf_kappa)\n",
    "\n",
    "# Load all pages and extract text content\n",
    "pages = [page.page_content for page in loader.lazy_load()]"
   ]
  },
  {
   "cell_type": "markdown",
   "id": "279ae227",
   "metadata": {},
   "source": [
    "#### Split text in Text-structured base"
   ]
  },
  {
   "cell_type": "code",
   "execution_count": null,
   "id": "baaab20d",
   "metadata": {},
   "outputs": [
    {
     "name": "stdout",
     "output_type": "stream",
     "text": [
      "Collecting pypdf\n",
      "  Downloading pypdf-6.0.0-py3-none-any.whl.metadata (7.1 kB)\n",
      "Requirement already satisfied: typing_extensions>=4.0 in /opt/anaconda3/envs/ML_env/lib/python3.10/site-packages (from pypdf) (4.14.0)\n",
      "Downloading pypdf-6.0.0-py3-none-any.whl (310 kB)\n",
      "Installing collected packages: pypdf\n",
      "Successfully installed pypdf-6.0.0\n",
      "Note: you may need to restart the kernel to use updated packages.\n"
     ]
    }
   ],
   "source": [
    "from langchain_text_splitters import RecursiveCharacterTextSplitter"
   ]
  },
  {
   "cell_type": "code",
   "execution_count": null,
   "id": "f282580d",
   "metadata": {},
   "outputs": [],
   "source": []
  }
 ],
 "metadata": {
  "kernelspec": {
   "display_name": "ML_env",
   "language": "python",
   "name": "python3"
  },
  "language_info": {
   "codemirror_mode": {
    "name": "ipython",
    "version": 3
   },
   "file_extension": ".py",
   "mimetype": "text/x-python",
   "name": "python",
   "nbconvert_exporter": "python",
   "pygments_lexer": "ipython3",
   "version": "3.10.18"
  }
 },
 "nbformat": 4,
 "nbformat_minor": 5
}
